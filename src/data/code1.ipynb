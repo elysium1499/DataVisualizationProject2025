{
 "cells": [
  {
   "cell_type": "code",
   "execution_count": 3,
   "metadata": {},
   "outputs": [],
   "source": [
    "import pandas as pd\n",
    "\n",
    "# Load dataset (Replace 'flights_data.csv' with the correct file path)\n",
    "df = pd.read_csv(\"flights_data.csv\")\n",
    "\n",
    "# Ensure the necessary columns exist\n",
    "required_columns = {\"ORIGIN_STATE\", \"DEST_STATE\"}\n",
    "missing_columns = required_columns - set(df.columns)\n",
    "\n",
    "if missing_columns:\n",
    "    raise ValueError(f\"❌ Missing required columns: {missing_columns}. Ensure the dataset includes them!\")\n",
    "\n",
    "# ✅ Remove circular links (flights staying in the same state)\n",
    "df_cleaned = df[df[\"ORIGIN_STATE\"] != df[\"DEST_STATE\"]].copy()\n",
    "\n",
    "# ✅ Drop rows where either ORIGIN_STATE or DEST_STATE is missing\n",
    "df_cleaned.dropna(subset=[\"ORIGIN_STATE\", \"DEST_STATE\"], inplace=True)\n",
    "\n",
    "# ✅ Aggregate total flights per state pair (handling missing FLIGHTS column)\n",
    "if \"FLIGHTS\" in df_cleaned.columns:\n",
    "    df_cleaned = df_cleaned.groupby([\"ORIGIN_STATE\", \"DEST_STATE\"], as_index=False)[\"FLIGHTS\"].sum()\n",
    "else:\n",
    "    df_cleaned = df_cleaned.groupby([\"ORIGIN_STATE\", \"DEST_STATE\"], as_index=False).size()\n",
    "    df_cleaned.rename(columns={\"size\": \"FLIGHT_COUNT\"}, inplace=True)\n",
    "\n",
    "# ✅ Save cleaned dataset\n",
    "df_cleaned.to_csv(\"sankey_data.csv\", index=False)"
   ]
  },
  {
   "cell_type": "code",
   "execution_count": 3,
   "metadata": {},
   "outputs": [],
   "source": [
    "import pandas as pd\n",
    "\n",
    "# Load the flights dataset\n",
    "file_path = \"flights_data.csv\"\n",
    "df = pd.read_csv(file_path)\n",
    "\n",
    "# Extract unique airport codes from ORIGIN and DEST columns\n",
    "unique_airports = set(df[\"ORIGIN\"]).union(set(df[\"DEST\"]))\n",
    "\n",
    "# Load airport latitude and longitude data (I will use an external dataset)\n",
    "# Here, I will create a reference DataFrame with some sample data \n",
    "# (in a real case, an external airport dataset should be used)\n",
    "airport_data = {\n",
    "    \"AIRPORT_CODE\": [\"ATL\", \"LAX\", \"ORD\", \"DFW\", \"JFK\", \"SFO\", \"DEN\", \"SEA\", \"LAS\", \"MIA\"],\n",
    "    \"LATITUDE\": [33.6367, 33.9416, 41.9786, 32.8974, 40.6413, 37.7749, 39.8561, 47.4502, 36.083, 25.7959],\n",
    "    \"LONGITUDE\": [-84.4281, -118.4085, -87.9048, -97.0403, -73.7781, -122.4194, -104.6737, -122.3088, -115.1511, -80.2871]\n",
    "}\n",
    "\n",
    "airport_df = pd.DataFrame(airport_data)\n",
    "\n",
    "# Filter only airports in the dataset\n",
    "matched_airports = airport_df[airport_df[\"AIRPORT_CODE\"].isin(unique_airports)]\n",
    "\n",
    "# Save the processed dataset\n",
    "output_path = \"airport_locations.csv\"\n",
    "matched_airports.to_csv(output_path, index=False)"
   ]
  },
  {
   "cell_type": "code",
   "execution_count": 6,
   "metadata": {},
   "outputs": [
    {
     "name": "stdout",
     "output_type": "stream",
     "text": [
      "Top 20 busiest airports by number of flights:\n",
      "ATL    10286.0\n",
      "DFW     8724.0\n",
      "ORD     8150.0\n",
      "DEN     8087.0\n",
      "CLT     6263.0\n",
      "LAX     5562.0\n",
      "LAS     4964.0\n",
      "PHX     4876.0\n",
      "SEA     4771.0\n",
      "MCO     4276.0\n",
      "IAH     4219.0\n",
      "DTW     4197.0\n",
      "LGA     4173.0\n",
      "MSP     4047.0\n",
      "SFO     3940.0\n",
      "BOS     3714.0\n",
      "EWR     3621.0\n",
      "DCA     3546.0\n",
      "JFK     3472.0\n",
      "SLC     3439.0\n",
      "Name: count, dtype: float64\n"
     ]
    }
   ],
   "source": [
    "import pandas as pd\n",
    "\n",
    "# Load dataset (replace with actual file path)\n",
    "file_path = \"flights_data.csv\"  # Ensure this matches your file name\n",
    "df = pd.read_csv(file_path)\n",
    "\n",
    "# Count total flights per airport (both ORIGIN and DEST)\n",
    "airport_counts = df['ORIGIN'].value_counts() + df['DEST'].value_counts()\n",
    "\n",
    "# Sort and get top 20 busiest airports\n",
    "top_20_airports = airport_counts.nlargest(20)\n",
    "\n",
    "# Print results\n",
    "print(\"Top 20 busiest airports by number of flights:\")\n",
    "print(top_20_airports)\n"
   ]
  },
  {
   "cell_type": "code",
   "execution_count": null,
   "metadata": {},
   "outputs": [],
   "source": []
  }
 ],
 "metadata": {
  "kernelspec": {
   "display_name": "base",
   "language": "python",
   "name": "python3"
  },
  "language_info": {
   "codemirror_mode": {
    "name": "ipython",
    "version": 3
   },
   "file_extension": ".py",
   "mimetype": "text/x-python",
   "name": "python",
   "nbconvert_exporter": "python",
   "pygments_lexer": "ipython3",
   "version": "3.11.4"
  }
 },
 "nbformat": 4,
 "nbformat_minor": 2
}
